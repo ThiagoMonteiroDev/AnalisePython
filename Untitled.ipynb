{
 "cells": [
  {
   "cell_type": "code",
   "execution_count": 1,
   "id": "bf67e212-b3ad-47d5-b1d1-ec2266632bdb",
   "metadata": {},
   "outputs": [],
   "source": [
    "import pandas as pd"
   ]
  },
  {
   "cell_type": "code",
   "execution_count": 5,
   "id": "5953742e",
   "metadata": {},
   "outputs": [],
   "source": [
    "escolas = pd.read_csv('https://drive.google.com/uc?id=1Jgto7psHaMRTAVzcFt7D6SgJiHMB7uGT')\n",
    "estudantes = pd.read_csv('https://drive.google.com/uc?id=15aOJIGAyLMSY1gecjiCgu2ko_riIcKQy')"
   ]
  },
  {
   "cell_type": "code",
   "execution_count": 1,
   "id": "6c88a117",
   "metadata": {},
   "outputs": [
    {
     "name": "stdout",
     "output_type": "stream",
     "text": [
      "Colunas de 'estudantes':\n",
      "Index(['ID_Estudante', 'Nome_Estudante', 'Genero', 'Serie', 'Nome_Escola',\n",
      "       'Nota_Redacao', 'Nota_Matematica'],\n",
      "      dtype='object')\n",
      "\n",
      "Colunas de 'escolas':\n",
      "Index(['ID_Escola', 'Nome_Escola', 'Tipo_Escola', 'Numero_Alunos',\n",
      "       'Orcamento_Anual'],\n",
      "      dtype='object')\n",
      "\n",
      "Escola com a Melhor Nota Média em Matemática:\n",
      "ID_Escola                               9\n",
      "Nome_Escola                      Escola J\n",
      "Tipo_Escola                    Particular\n",
      "Numero_Alunos                         962\n",
      "Orcamento_Anual                    585858\n",
      "desempenho_matematica_medio     83.839917\n",
      "Name: 9, dtype: object\n"
     ]
    }
   ],
   "source": [
    "import pandas as pd\n",
    "\n",
    "# Carregar os dados\n",
    "escolas = pd.read_csv('https://drive.google.com/uc?id=1Jgto7psHaMRTAVzcFt7D6SgJiHMB7uGT')\n",
    "estudantes = pd.read_csv('https://drive.google.com/uc?id=15aOJIGAyLMSY1gecjiCgu2ko_riIcKQy')\n",
    "\n",
    "# Verificar os nomes das colunas para garantir que estamos usando os nomes corretos\n",
    "print(\"Colunas de 'estudantes':\")\n",
    "print(estudantes.columns)\n",
    "\n",
    "print(\"\\nColunas de 'escolas':\")\n",
    "print(escolas.columns)\n",
    "\n",
    "# Calcular a média de Nota_Matematica por escola\n",
    "desempenho_matematica_por_escola = estudantes.groupby('Nome_Escola')['Nota_Matematica'].mean().reset_index()\n",
    "\n",
    "# Renomear a coluna para 'desempenho_matematica_medio'\n",
    "desempenho_matematica_por_escola.rename(columns={'Nota_Matematica': 'desempenho_matematica_medio'}, inplace=True)\n",
    "\n",
    "# Unir o DataFrame de desempenho com o DataFrame de escolas\n",
    "eficiencia_escolas = pd.merge(escolas, desempenho_matematica_por_escola, on='Nome_Escola')\n",
    "\n",
    "# Encontrar a escola com o melhor desempenho médio em Matemática\n",
    "melhor_escola_matematica = eficiencia_escolas.loc[eficiencia_escolas['desempenho_matematica_medio'].idxmax()]\n",
    "\n",
    "print(\"\\nEscola com a Melhor Nota Média em Matemática:\")\n",
    "print(melhor_escola_matematica)\n"
   ]
  }
 ],
 "metadata": {
  "kernelspec": {
   "display_name": "Python 3 (ipykernel)",
   "language": "python",
   "name": "python3"
  },
  "language_info": {
   "codemirror_mode": {
    "name": "ipython",
    "version": 3
   },
   "file_extension": ".py",
   "mimetype": "text/x-python",
   "name": "python",
   "nbconvert_exporter": "python",
   "pygments_lexer": "ipython3",
   "version": "3.12.5"
  }
 },
 "nbformat": 4,
 "nbformat_minor": 5
}
